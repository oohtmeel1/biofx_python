{
 "cells": [
  {
   "cell_type": "code",
   "execution_count": null,
   "metadata": {},
   "outputs": [],
   "source": [
    "## Using the reverse python builtin, to write the complements of bases.\n",
    "trans ={'A':'T','C':'G','G':'C','T':'A','a':'t','c':'g','t':'a','g':'c'}\n",
    "complement =''\n",
    "for base in 'AAACCCTTTGGG':"
   ]
  }
 ],
 "metadata": {
  "kernelspec": {
   "display_name": "Python 3",
   "language": "python",
   "name": "python3"
  },
  "language_info": {
   "name": "python",
   "version": "3.12.1"
  }
 },
 "nbformat": 4,
 "nbformat_minor": 2
}
